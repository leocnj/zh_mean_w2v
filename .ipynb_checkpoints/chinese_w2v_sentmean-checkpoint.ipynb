{
 "cells": [
  {
   "cell_type": "markdown",
   "metadata": {
    "collapsed": true
   },
   "source": [
    "# Load pre-trained Word2Vec embedding\n",
    "\n",
    "Download word2vec files, which were trained from Wikipedia by Facebook AI using their fasttext implementation, from [pre-trained word2vec](https://github.com/facebookresearch/fastText/blob/master/pretrained-vectors.md)\n",
    "\n",
    "Unzip to obtain wiki.zh.vec (text format) 821 MB"
   ]
  },
  {
   "cell_type": "code",
   "execution_count": 1,
   "metadata": {
    "collapsed": true
   },
   "outputs": [],
   "source": [
    "import jieba\n",
    "import numpy as np\n",
    "\n",
    "class MeanEmbeddingVectorizer(object):\n",
    "    def __init__(self, word2vec):\n",
    "        self.word2vec = word2vec\n",
    "        # if a text is empty we should return a vector of zeros\n",
    "        # with the same dimensionality as all the other vectors\n",
    "        self.dim = 300\n",
    "\n",
    "    def fit(self, X, y):\n",
    "        return self\n",
    "\n",
    "    def transform(self, X):\n",
    "        return np.array([\n",
    "            np.mean([self.word2vec[w] for w in words if w in self.word2vec]\n",
    "                    or [np.zeros(self.dim)], axis=0)\n",
    "            for words in X\n",
    "        ])"
   ]
  },
  {
   "cell_type": "markdown",
   "metadata": {},
   "source": [
    "Load wiki.zh.vec to obtain a dict w2v"
   ]
  },
  {
   "cell_type": "code",
   "execution_count": 10,
   "metadata": {
    "collapsed": true
   },
   "outputs": [],
   "source": [
    "# load wiki.zh 300d word2vec embedding provided by Facebook\n",
    "with open('../wiki.zh/wiki.zh.vec', \"r\", encoding='utf-8') as lines:\n",
    "    w2v = {line.split()[0]: np.asarray(line.split()[1:], dtype='float32') for line in lines}"
   ]
  },
  {
   "cell_type": "markdown",
   "metadata": {},
   "source": [
    "Show one word's 300d w2v embedding."
   ]
  },
  {
   "cell_type": "code",
   "execution_count": 10,
   "metadata": {},
   "outputs": [
    {
     "name": "stdout",
     "output_type": "stream",
     "text": [
      "[ -3.84820014e-01   6.58559978e-01  -2.58219987e-01  -5.38880005e-02\n",
      "   7.19030023e-01  -2.08000004e-01  -4.21669990e-01   5.07480018e-02\n",
      "   2.64129996e-01   3.55589986e-02   7.82469988e-01   2.35489994e-01\n",
      "   1.04100001e+00  -6.62980020e-01   7.08630010e-02  -9.66240019e-02\n",
      "   7.42129982e-01   6.64950013e-02  -1.05680001e+00  -5.42530000e-01\n",
      "  -4.26470011e-01   9.47340012e-01   5.06449997e-01  -2.00859994e-01\n",
      "   2.40410000e-01  -3.85729998e-01   8.07449996e-01   3.22939992e-01\n",
      "   1.82650000e-01   1.60060003e-01   6.90800011e-01  -5.70349991e-01\n",
      "  -7.97230005e-01  -6.56369984e-01  -1.06620002e+00   7.20200002e-01\n",
      "   8.32350016e-01  -5.28789997e-01   2.31859997e-01   1.08270001e+00\n",
      "   6.82020009e-01   8.13030005e-01   6.05300009e-01  -9.35899973e-01\n",
      "  -3.28700006e-01  -7.18860030e-02  -7.02260017e-01  -4.53399986e-01\n",
      "  -1.26190007e-01  -7.45549977e-01   1.35800004e+00  -2.86300004e-01\n",
      "  -5.73430002e-01  -6.36030018e-01   3.93869996e-01  -9.20090020e-01\n",
      "  -1.12530005e+00  -9.96249974e-01  -2.01979995e+00   3.39729995e-01\n",
      "   8.05760026e-01  -2.61489987e-01   7.41410017e-01   9.31529999e-01\n",
      "   5.07679999e-01   4.58999991e-01  -7.14299977e-01  -4.72130001e-01\n",
      "  -2.66600013e-01  -2.32969999e-01   1.12779999e+00  -5.95359981e-01\n",
      "   1.15219998e+00  -2.10989997e-01  -9.24560010e-01   1.62939996e-01\n",
      "  -1.28120005e-01  -8.86929989e-01  -3.20439994e-01  -1.02090001e+00\n",
      "  -5.44710010e-02   3.55839998e-01   5.37329972e-01  -3.46500009e-01\n",
      "  -8.37880015e-01  -9.56960022e-01   8.78520012e-02   4.88119990e-01\n",
      "   1.13229997e-01  -7.20109999e-01  -5.42389989e-01   5.54359972e-01\n",
      "  -2.54660010e-01   5.81390001e-02  -4.49339986e-01   9.40779984e-01\n",
      "   6.31820023e-01   3.25360000e-01   1.79869998e-02   3.74489993e-01\n",
      "   2.40840003e-01   4.60469991e-01  -4.50639993e-01   4.36190009e-01\n",
      "  -3.82310003e-01   3.86189997e-01  -1.61950007e-01  -5.12470007e-01\n",
      "  -1.42729998e-01  -8.03169981e-02   1.11320000e-02  -8.45170021e-01\n",
      "   1.93120003e-01   1.60070002e-01   1.37789994e-01   2.20489994e-01\n",
      "  -7.87959993e-02   1.84640005e-01  -5.27040005e-01  -5.93689978e-01\n",
      "  -4.25280005e-01   6.40339971e-01   4.89050001e-01   2.44269997e-01\n",
      "  -7.82379985e-01  -4.11579996e-01   4.68300015e-01   3.11399996e-01\n",
      "  -8.33000004e-01   3.85490000e-01   8.24880004e-01  -2.05589995e-01\n",
      "  -8.08059990e-01   1.14530003e+00  -9.15229976e-01   5.45819998e-01\n",
      "  -1.32300004e-01   4.34760004e-02  -3.44179988e-01  -8.99330005e-02\n",
      "  -2.21550003e-01   2.88789988e-01   7.73329973e-01  -1.01269996e+00\n",
      "  -3.83890003e-01   4.43890005e-01  -1.10780001e+00   1.68340001e-02\n",
      "  -4.91369992e-01  -2.54119992e-01   4.26719993e-01   6.59470022e-01\n",
      "   3.14220004e-02   1.14139996e-01   6.24319971e-01  -5.60180008e-01\n",
      "   5.84259987e-01  -2.69039989e-01  -1.19010001e-01   1.57869995e-01\n",
      "   1.53400004e-01   1.87059999e-01   3.91360015e-01  -2.12660000e-01\n",
      "   1.33780003e-01   3.61909986e-01  -3.41430008e-01   6.53479993e-01\n",
      "   8.96700025e-02   3.36959988e-01   4.81510013e-01   4.08160001e-01\n",
      "   8.27719986e-01   1.26300007e-01   4.39260006e-02  -4.82690006e-01\n",
      "   7.71510005e-01   8.68820012e-01   3.29650007e-02  -2.74819992e-02\n",
      "  -5.21889985e-01  -3.61759990e-01   2.17869997e-01   1.27670005e-01\n",
      "  -3.55870008e-01   5.99879980e-01  -9.21289995e-02  -4.03530002e-01\n",
      "  -4.08740014e-01   2.03590006e-01   4.78180014e-02  -4.58130002e-01\n",
      "  -3.68200004e-01  -2.81599998e-01  -2.82039996e-02  -3.59730005e-01\n",
      "  -4.35950011e-01  -6.26179993e-01  -3.26620013e-01   5.08329988e-01\n",
      "  -1.06200002e-01  -2.36430004e-01   7.64829963e-02  -2.01780006e-01\n",
      "   1.99970007e-01  -9.75200012e-02   4.09779996e-01  -1.21830001e-01\n",
      "  -1.00349998e-02   1.51160002e-01  -1.07799995e+00   2.06929997e-01\n",
      "  -3.80239993e-01   8.90280008e-02  -6.23420000e-01   4.81319986e-02\n",
      "   5.42460024e-01  -4.94949996e-01   5.10089993e-01   4.62870002e-01\n",
      "  -5.66630006e-01   4.02469993e-01   7.83100009e-01  -1.96610004e-01\n",
      "  -6.74160004e-01   7.47669995e-01  -4.62669998e-01  -2.57820010e-01\n",
      "  -2.84839988e-01   8.02860036e-02  -1.01160002e+00  -4.13170010e-01\n",
      "   2.15519994e-01  -2.30179995e-01   9.59170014e-02   5.39099991e-01\n",
      "   4.36859995e-01  -1.09379995e+00  -1.60640001e-01  -4.46669996e-01\n",
      "   4.77389991e-01  -2.73990005e-01   2.16289997e-01   1.57580003e-01\n",
      "  -2.19699994e-01   1.34830002e-03  -5.64740002e-01  -1.80690005e-01\n",
      "  -6.41960025e-01   3.61189991e-01  -5.77700019e-01  -2.78849989e-01\n",
      "  -5.41450024e-01   4.13949996e-01  -5.91310024e-01  -6.36620000e-02\n",
      "   1.63699999e-01   6.50849998e-01  -1.31509995e+00  -8.72270018e-02\n",
      "   2.70170003e-01  -4.41680014e-01  -1.84410006e-01   8.66620019e-02\n",
      "   1.88149996e-02  -1.13310002e-01  -4.39969987e-01  -7.03249991e-01\n",
      "  -1.14610004e+00  -1.00769997e+00  -2.12620005e-01  -1.13810003e-01\n",
      "   1.02440000e+00  -8.58870029e-01   3.35969999e-02  -1.04939997e-01\n",
      "   3.11470002e-01   5.92079997e-01  -2.18209997e-01  -5.78209996e-01\n",
      "   5.45780003e-01   8.27939987e-01   2.21720003e-02   7.48310030e-01\n",
      "   1.09739996e-01  -3.28689992e-01   2.32710000e-02  -3.97449993e-02\n",
      "  -7.29529977e-01   9.73550044e-03  -6.39100015e-01  -8.02810013e-01\n",
      "  -4.91360009e-01  -3.41710001e-01  -1.71790004e-01  -4.45710003e-01\n",
      "   2.38240004e-01   5.92260003e-01   1.00839996e+00   2.99890012e-01]\n"
     ]
    }
   ],
   "source": [
    "print(w2v[u'美国'])"
   ]
  },
  {
   "cell_type": "markdown",
   "metadata": {},
   "source": [
    "# Compute mean of Word2vec from words in each sentence\n",
    "\n",
    "Create a list containing Chinse sentences (sents_str). Then use jieba to segment words for each sentence to form sents_tokenized.\n",
    "\n",
    "Use sent2vec transform() function to convert."
   ]
  },
  {
   "cell_type": "code",
   "execution_count": 11,
   "metadata": {
    "collapsed": true
   },
   "outputs": [],
   "source": [
    "sent2vec = MeanEmbeddingVectorizer(w2v)\n",
    "\n",
    "# test sentences\n",
    "sents_str = [u'我来到北京清华大学',\n",
    "         u'小明硕士毕业于中国科学院',\n",
    "         u'小明后在日本京都大学深造']\n",
    "\n",
    "# calling jieba word segmenter to prepare sent2vec input\n",
    "sents_tokenized = [list(jieba.cut(sent, cut_all=False)) for sent in sents_str]\n",
    "vecs = sent2vec.transform(sents_tokenized)"
   ]
  },
  {
   "cell_type": "markdown",
   "metadata": {},
   "source": [
    "The below shows three sentences' corresonding w2v_sentmean features. Note that we only show first 5 elements for each w2v vector."
   ]
  },
  {
   "cell_type": "code",
   "execution_count": 13,
   "metadata": {},
   "outputs": [
    {
     "name": "stdout",
     "output_type": "stream",
     "text": [
      "['我', '来到', '北京', '清华大学']\n",
      "[-0.1078045   0.62866789 -0.37951651  0.22102775  0.84329498]\n",
      "['小明', '硕士', '毕业', '于', '中国科学院']\n",
      "[-0.29119724  0.73300999 -0.62602252 -0.013232    0.74677247]\n",
      "['小明', '后', '在', '日本京都大学', '深造']\n",
      "[-0.07588175  1.02109993 -0.57511997  0.2206755   0.79821748]\n"
     ]
    }
   ],
   "source": [
    "for jieba_out, vec in zip(sents_tokenized, vecs):\n",
    "    print(jieba_out)\n",
    "    print(vec[0:5])"
   ]
  },
  {
   "cell_type": "code",
   "execution_count": null,
   "metadata": {
    "collapsed": true
   },
   "outputs": [],
   "source": []
  }
 ],
 "metadata": {
  "kernelspec": {
   "display_name": "Python 3",
   "language": "python",
   "name": "python3"
  },
  "language_info": {
   "codemirror_mode": {
    "name": "ipython",
    "version": 3
   },
   "file_extension": ".py",
   "mimetype": "text/x-python",
   "name": "python",
   "nbconvert_exporter": "python",
   "pygments_lexer": "ipython3",
   "version": "3.4.5"
  }
 },
 "nbformat": 4,
 "nbformat_minor": 1
}
